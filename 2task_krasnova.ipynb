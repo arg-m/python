{
  "nbformat": 4,
  "nbformat_minor": 0,
  "metadata": {
    "colab": {
      "provenance": [],
      "authorship_tag": "ABX9TyOZXtGvLlBSt/6y4lrcQRRU",
      "include_colab_link": true
    },
    "kernelspec": {
      "name": "python3",
      "display_name": "Python 3"
    },
    "language_info": {
      "name": "python"
    }
  },
  "cells": [
    {
      "cell_type": "markdown",
      "metadata": {
        "id": "view-in-github",
        "colab_type": "text"
      },
      "source": [
        "<a href=\"https://colab.research.google.com/github/arg-m/python/blob/main/2task_krasnova.ipynb\" target=\"_parent\"><img src=\"https://colab.research.google.com/assets/colab-badge.svg\" alt=\"Open In Colab\"/></a>"
      ]
    },
    {
      "cell_type": "markdown",
      "source": [
        "Задача 16: Создайте класс Book с полями название, автор и ISBN. Реализуйте методы update_author(new_author), который обновляет автора, и display_info(), который выводит информацию о книге."
      ],
      "metadata": {
        "id": "YPGv-HPGhNKr"
      }
    },
    {
      "cell_type": "code",
      "source": [
        "class Book:\n",
        "    def __init__(self, name, author, isbn):\n",
        "        self.name = name\n",
        "        self.author = author\n",
        "        self.isbn = isbn\n",
        "    def update_author(self, new_author):\n",
        "        self.author = new_author\n",
        "    def display_info(self):\n",
        "        print(f'Книга \"{self.name}\", автор: {self.author}, ISBN: {self.isbn}')\n",
        "\n",
        "\n",
        "Lavkraft = Book(\"Зов Ктулху\", \"Лавкрафт\", \"978-5-389-09893-0\")\n",
        "Lavkraft.display_info()"
      ],
      "metadata": {
        "id": "NzYKrH5OhOOo"
      },
      "execution_count": null,
      "outputs": []
    },
    {
      "cell_type": "markdown",
      "source": [
        "Задача 16. Определите класс Book, который наследуется от класса Document. Класс Book должен добавлять поле ISBN и методы для обновления автора и отображения информации о книге."
      ],
      "metadata": {
        "id": "Om0v3Ktbjts0"
      }
    },
    {
      "cell_type": "code",
      "source": [
        "class Document():\n",
        "    def __init__(self,name, author):\n",
        "        self.name = name\n",
        "        self.author = author\n",
        "\n",
        "class Book(Document):\n",
        "    def __init__(self, name, author, isbn):\n",
        "        super().__init__(name, author)\n",
        "        self.isbn = isbn\n",
        "    def update_author(self, new_author):\n",
        "        self.author = new_author\n",
        "    def display_info(self):\n",
        "        print(f'Книга \"{self.name}\", автор: {self.author}, ISBN: {self.isbn}')\n",
        "\n",
        "\n",
        "Lavkraft = Book(\"Зов Ктулху\", \"Лавкрафт\", \"978-5-389-09893-0\")\n",
        "Lavkraft.display_info()"
      ],
      "metadata": {
        "id": "_ItmN0P4n3rU"
      },
      "execution_count": null,
      "outputs": []
    },
    {
      "cell_type": "markdown",
      "source": [
        "Задача 16. Создать класс Book, в котором поля title, author и ISBN будут приватными. Реализовать методы для безопасного изменения автора и доступа к информации о книге."
      ],
      "metadata": {
        "id": "YA5msD_Vobwu"
      }
    },
    {
      "cell_type": "code",
      "source": [
        "class Book():\n",
        "    def __init__(self, title, author, isbn):\n",
        "        self.__title = title\n",
        "        self.__author = author\n",
        "        self.__isbn = isbn\n",
        "    def set_author(self, new_author):\n",
        "        self.__author = new_author\n",
        "    def get_title(self):\n",
        "        return self.__title\n",
        "    def get_author(self):\n",
        "        return self.__author\n",
        "    def get_isbn(self):\n",
        "        return self.__isbn\n",
        "\n",
        "Lavkraft = Book(\"Зов Ктулху\", \"Лавкрафт\", \"978-5-389-09893-0\")\n",
        "print(f'{Lavkraft.get_title()}, {Lavkraft.get_author()}, {Lavkraft.get_isbn()}')"
      ],
      "metadata": {
        "id": "ZYQFY4ASpZne"
      },
      "execution_count": null,
      "outputs": []
    },
    {
      "cell_type": "markdown",
      "source": [
        "Задача 16. Музей и экспонат.  Создайте класс `Музей`, содержащий список экспонатов. Реализуйте метод для добавления нового экспоната. Класс `Экспонат` должен иметь поле `название экспоната`. Экспонаты не могут существовать вне музея."
      ],
      "metadata": {
        "id": "d3Putxmipa04"
      }
    },
    {
      "cell_type": "code",
      "source": [
        "class Museum:\n",
        "    def __init__(self, name):\n",
        "        self.name = name\n",
        "        self.exhibits = []\n",
        "    def add_exhibit(self, name):\n",
        "        new_exhibit = self.Exhibit(name)\n",
        "        self.exhibits.append(new_exhibit)\n",
        "    def print_info(self):\n",
        "        print(f'Музей: {self.name}')\n",
        "        print(\"Экспонаты: \")\n",
        "        for exhibit in self.exhibits:\n",
        "            print(exhibit.name)\n",
        "    class Exhibit:\n",
        "        def __init__(self, name):\n",
        "            self.name = name\n",
        "\n",
        "museum = Museum(\"Музей чак-чака\")\n",
        "museum.add_exhibit(\"чак-чак\")\n",
        "museum.add_exhibit(\"чай\")\n",
        "museum.print_info()"
      ],
      "metadata": {
        "id": "tK7GRLgCpzbV"
      },
      "execution_count": null,
      "outputs": []
    },
    {
      "cell_type": "markdown",
      "source": [
        "Задача 16. Клиент и банковская карта. Реализуйте класс `Клиент`, у которого могут быть несколько банковских карт. У класса `Карта` есть поля `номер` и `лимит`. Карты могут существовать вне клиента."
      ],
      "metadata": {
        "id": "FrfJBz9_sabi"
      }
    },
    {
      "cell_type": "code",
      "source": [
        "class Bank_card:\n",
        "    def __init__(self, number, limit):\n",
        "        self.number = number\n",
        "        self.limit = limit\n",
        "    def print_info(self):\n",
        "        print(f'Номер: {self.number}, лимит: {self.limit}')\n",
        "\n",
        "class Client:\n",
        "    def __init__(self, name):\n",
        "        self.name = name\n",
        "        self.cards = []\n",
        "    def add_card(self, number, limit):\n",
        "        new_card = Bank_card(number, limit)\n",
        "        self.cards.append(new_card)\n",
        "    def print_info(self):\n",
        "        print(f'Имя: {self.name}')\n",
        "        print(\"Карты: \")\n",
        "        for card in self.cards:\n",
        "            card.print_info()\n",
        "\n",
        "client = Client(\"Юля\")\n",
        "client.add_card(1234567890, 1)\n",
        "client.add_card(987654321, 2)\n",
        "client.print_info()"
      ],
      "metadata": {
        "id": "6kQLCuNhsrX_"
      },
      "execution_count": null,
      "outputs": []
    },
    {
      "cell_type": "markdown",
      "source": [
        "Задача 16. Создать абстрактный класс CarPart с абстрактным методом replace(). Реализовать подклассы Engine и Wheel, которые реализуют метод replace()."
      ],
      "metadata": {
        "id": "K496gp4FnmnP"
      }
    },
    {
      "cell_type": "code",
      "source": [
        "from abc import ABC, abstractmethod\n",
        "\n",
        "class CarPart(ABC):\n",
        "    @abstractmethod\n",
        "    def replace(self):\n",
        "        pass\n",
        "\n",
        "class Engine(CarPart):\n",
        "    def __init__(self, brand):\n",
        "        self.brand = brand\n",
        "    def replace(self, brand):\n",
        "        self.brand = brand\n",
        "    def print_info(self):\n",
        "        print(self.brand)\n",
        "\n",
        "class Wheel(CarPart):\n",
        "    def __init__(self, type):\n",
        "        self.type = type\n",
        "    def replace(self, type):\n",
        "        self.type = type\n",
        "    def print_info(self):\n",
        "        print(self.type)\n",
        "\n",
        "if __name__ == \"__main__\":\n",
        "    engine = Engine(\"Honda\")\n",
        "    engine.replace(\"Subaru\")\n",
        "\n",
        "    wheel = Wheel(\"winter\")\n",
        "    wheel.replace(\"all season\")\n",
        "    engine.print_info()\n",
        "    wheel.print_info()"
      ],
      "metadata": {
        "id": "MMfI5LBTnoEp"
      },
      "execution_count": null,
      "outputs": []
    },
    {
      "cell_type": "markdown",
      "source": [
        "Задача 16. Создать интерфейс IBook, который содержит методы updateAuthor(String author) и getBookInfo(). Создать класс Book, реализующий этот интерфейс. Класс должен содержать поля title, author и isbn."
      ],
      "metadata": {
        "id": "KKT5HKxftGu3"
      }
    },
    {
      "cell_type": "code",
      "source": [
        "from abc import ABC, abstractmethod\n",
        "\n",
        "class IBook(ABC):\n",
        "    @abstractmethod\n",
        "    def updateAuthor(self, author):\n",
        "        pass\n",
        "    @abstractmethod\n",
        "    def getBookInfo(self):\n",
        "        pass\n",
        "\n",
        "class Book(IBook):\n",
        "    def __init__(self, title, author, isbn):\n",
        "        self.title = title\n",
        "        self.author = author\n",
        "        self.isbn = isbn\n",
        "    def updateAuthor(self, author):\n",
        "        self.author = author\n",
        "    def getBookInfo(self):\n",
        "        print(self.title, self.author, self.isbn)\n",
        "\n",
        "\n",
        "\n",
        "if __name__ == \"__main__\":\n",
        "    book = Book(\"Зов Ктулху\", \"Лавкрафт\", \"978-5-389-09893-0\")\n",
        "    book.getBookInfo()"
      ],
      "metadata": {
        "id": "axSjQWqytIit"
      },
      "execution_count": null,
      "outputs": []
    },
    {
      "cell_type": "markdown",
      "source": [
        "Задача 16. Определите метод getGenre() в классе Book, который будет возвращать жанр книги. Создайте подклассы FictionBook и NonFictionBook, которые будут переопределять этот метод для различных жанров."
      ],
      "metadata": {
        "id": "51rYQPp71B27"
      }
    },
    {
      "cell_type": "code",
      "source": [
        "from abc import ABC, abstractmethod\n",
        "class Book:\n",
        "    @abstractmethod\n",
        "    def getGenre(self):\n",
        "        pass\n",
        "\n",
        "class FictionBook(Book):\n",
        "    def getGenre(self):\n",
        "        return \"Художественная литература\"\n",
        "\n",
        "class NonFictionBook(Book):\n",
        "    def getGenre(self):\n",
        "        return \"Научная литература\"\n",
        "\n",
        "\n",
        "if __name__ == \"__main__\":\n",
        "    fbook = FictionBook()\n",
        "    nbook = NonFictionBook()\n",
        "\n",
        "    print(fbook.getGenre())\n",
        "    print(nbook.getGenre())"
      ],
      "metadata": {
        "id": "rSYlQS081LdM"
      },
      "execution_count": null,
      "outputs": []
    }
  ]
}