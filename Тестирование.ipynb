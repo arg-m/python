{
  "nbformat": 4,
  "nbformat_minor": 0,
  "metadata": {
    "colab": {
      "provenance": [],
      "authorship_tag": "ABX9TyPE+kb5oIyB0aqSfPoaj2Zh",
      "include_colab_link": true
    },
    "kernelspec": {
      "name": "python3",
      "display_name": "Python 3"
    },
    "language_info": {
      "name": "python"
    }
  },
  "cells": [
    {
      "cell_type": "markdown",
      "metadata": {
        "id": "view-in-github",
        "colab_type": "text"
      },
      "source": [
        "<a href=\"https://colab.research.google.com/github/arg-m/python/blob/main/%D0%A2%D0%B5%D1%81%D1%82%D0%B8%D1%80%D0%BE%D0%B2%D0%B0%D0%BD%D0%B8%D0%B5.ipynb\" target=\"_parent\"><img src=\"https://colab.research.google.com/assets/colab-badge.svg\" alt=\"Open In Colab\"/></a>"
      ]
    },
    {
      "cell_type": "markdown",
      "source": [
        "Краснова Юлия, 09-313"
      ],
      "metadata": {
        "id": "OUqVsuTjVeDE"
      }
    },
    {
      "cell_type": "code",
      "execution_count": null,
      "metadata": {
        "id": "TduPaz4JVZr6"
      },
      "outputs": [],
      "source": [
        "def parse_test_file(filename):\n",
        "    questions = []\n",
        "    with open(filename, encoding='utf-8') as f:\n",
        "        content = f.read().strip()\n",
        "    blocks = content.split(\"\\n\\n\")\n",
        "    for block in blocks:\n",
        "        lines = block.strip().splitlines()\n",
        "        if not lines:\n",
        "            continue\n",
        "        first = lines[0]\n",
        "        dot_pos = first.find('. ')\n",
        "        if dot_pos == -1 or not first[:dot_pos].isdigit():\n",
        "            continue\n",
        "        question_text = first[dot_pos + 2:].strip()\n",
        "        options = []\n",
        "        answer = None\n",
        "        for line in lines[1:]:\n",
        "            dot_pos = line.find('. ')\n",
        "            if dot_pos != -1 and line[:dot_pos].isdigit():\n",
        "                opt_text = line[dot_pos + 2:].strip()\n",
        "                options.append(opt_text)\n",
        "            elif line.startswith('Ответ:'):\n",
        "                ans_part = line.split(':', 1)[1].strip()\n",
        "                if ans_part.isdigit():\n",
        "                    answer = int(ans_part)\n",
        "        if question_text and options and answer is not None:\n",
        "            questions.append({\n",
        "                'question': question_text,\n",
        "                'options': options,\n",
        "                'answer': answer\n",
        "            })\n",
        "\n",
        "    return questions\n",
        "\n",
        "\n",
        "def run_quiz(questions):\n",
        "    print(\"=== Начинаем тестирование! ===\")\n",
        "    total = len(questions)\n",
        "    correct = 0\n",
        "\n",
        "    for idx, q in enumerate(questions, 1):\n",
        "        print(f\"\\nВопрос {idx}: {q['question']}\")\n",
        "        for num, opt in enumerate(q['options'], 1):\n",
        "            print(f\"  {num}. {opt}\")\n",
        "\n",
        "        # Ввод ответа\n",
        "        while True:\n",
        "            try:\n",
        "                user_ans = int(input(\"Ваш ответ (номер варианта): \"))\n",
        "                if 1 <= user_ans <= len(q['options']):\n",
        "                    break\n",
        "                else:\n",
        "                    print(f\"Введите число от 1 до {len(q['options'])}.\")\n",
        "            except ValueError:\n",
        "                print(\"Пожалуйста, введите число.\")\n",
        "        if user_ans == q['answer']:\n",
        "            print(\"✔ Правильно!\")\n",
        "            correct += 1\n",
        "        else:\n",
        "            correct_opt = q['options'][q['answer'] - 1]\n",
        "            print(f\"✘ Неверно. Правильный ответ: {q['answer']}. {correct_opt} Ваш ответ - {user_ans}\")\n",
        "    print(\"\\n=== Тест завершён ===\")\n",
        "    print(f\"Правильно {correct} из {total}.\")\n",
        "    pct = correct / total * 100 if total else 0\n",
        "    print(f\"Процент правильных ответов: {pct:.2f}%\")\n",
        "\n",
        "\n",
        "filename = 'file4.txt'\n",
        "questions = parse_test_file(filename)\n",
        "run_quiz(questions)"
      ]
    }
  ]
}