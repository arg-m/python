{
  "nbformat": 4,
  "nbformat_minor": 0,
  "metadata": {
    "colab": {
      "provenance": [],
      "authorship_tag": "ABX9TyMLgUsSO1z9TQ64cfzqjaSn",
      "include_colab_link": true
    },
    "kernelspec": {
      "name": "python3",
      "display_name": "Python 3"
    },
    "language_info": {
      "name": "python"
    }
  },
  "cells": [
    {
      "cell_type": "markdown",
      "metadata": {
        "id": "view-in-github",
        "colab_type": "text"
      },
      "source": [
        "<a href=\"https://colab.research.google.com/github/arg-m/python/blob/main/4task_krasnova.ipynb\" target=\"_parent\"><img src=\"https://colab.research.google.com/assets/colab-badge.svg\" alt=\"Open In Colab\"/></a>"
      ]
    },
    {
      "cell_type": "markdown",
      "source": [
        "1.\tДана последовательность слов. Напечатать те слова последовательности, которые отличны от последнего слова и удовлетворяют следующему свойству: буквы слова упорядочены по алфавиту."
      ],
      "metadata": {
        "id": "herZfftAoXWz"
      }
    },
    {
      "cell_type": "code",
      "source": [
        "def is_alphabetical(word):\n",
        "    return list(word) == sorted(word)\n",
        "\n",
        "def print_alphabetical_words(words):\n",
        "    last_word = words[-1]\n",
        "    for i in range(len(words)-1):\n",
        "        if words[i] != last_word and is_alphabetical(words[i]):\n",
        "            print(words[i])\n",
        "\n",
        "words = [\"apple\", \"banana\", \"abcde\", \"car\", \"door\", \"loop\", \"ghost\", \"hit\", \"zebra\", \"zorro\"]\n",
        "print_alphabetical_words(words)"
      ],
      "metadata": {
        "id": "xSxWyRHxLnbj"
      },
      "execution_count": null,
      "outputs": []
    },
    {
      "cell_type": "markdown",
      "source": [
        "2.\tДана строка символов, заканчивающаяся точкой. Указать те слова, которые содержат хотя бы одну букву k."
      ],
      "metadata": {
        "id": "zM4Y8T_moYoD"
      }
    },
    {
      "cell_type": "code",
      "source": [
        "def words_with_k(str):\n",
        "    words = str.rstrip('.').split()\n",
        "    result = [word for word in words if 'k' in word]\n",
        "    return result\n",
        "\n",
        "input_string = \"The quick black fox jumps over the lazy dog and kicks the ball back to the park.\"\n",
        "print(words_with_k(input_string))"
      ],
      "metadata": {
        "id": "-hYP2SpdOHQY"
      },
      "execution_count": null,
      "outputs": []
    },
    {
      "cell_type": "markdown",
      "source": [
        "3.\tНапечатать заданный текст, удалив из него лишние пробелы, т. е. из нескольких подряд идущих пробелов оставить только один."
      ],
      "metadata": {
        "id": "hReI0EkmocsT"
      }
    },
    {
      "cell_type": "code",
      "source": [
        "def remove_spaces(text):\n",
        "    words = text.split()\n",
        "    result = ' '.join(words)\n",
        "    return result\n",
        "input_text = \"  Это    пример    текста с  лишними   пробелами.  \"\n",
        "print(remove_spaces(input_text))"
      ],
      "metadata": {
        "id": "yxBPcEKPiKTi"
      },
      "execution_count": null,
      "outputs": []
    },
    {
      "cell_type": "markdown",
      "source": [
        "![image.png](data:image/png;base64,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)"
      ],
      "metadata": {
        "id": "HRMXtOibogcF"
      }
    },
    {
      "cell_type": "code",
      "source": [
        "from decimal import Decimal, getcontext\n",
        "import math\n",
        "\n",
        "getcontext().prec = 50\n",
        "\n",
        "n = 40  # число элементов последовательности\n",
        "epsilon = Decimal('0.1')  # заданное число\n",
        "\n",
        "# Вычисление последовательности\n",
        "b_n = []\n",
        "for i in range(1, n + 1):\n",
        "    term = ((-1) ** (i + 1)) / Decimal(math.factorial(i))\n",
        "    if i == 1:\n",
        "        b_n.append(term)\n",
        "    else:\n",
        "        b_n.append(b_n[-1] + term)\n",
        "\n",
        "with open(\"out.txt\", 'w') as file:\n",
        "    for value in b_n:\n",
        "        file.write(f'{value}\\n')\n",
        "\n",
        "with open(\"out.txt\", 'r') as file:\n",
        "    for line in file:\n",
        "        value = Decimal(line.strip())\n",
        "        if abs(value) > epsilon:\n",
        "            print(value)"
      ],
      "metadata": {
        "id": "kgBGvtz_gDHm"
      },
      "execution_count": null,
      "outputs": []
    },
    {
      "cell_type": "markdown",
      "source": [
        "2.\tДан файл Assort, содержащий сведения об игрушках: указывается название игрушки, ее стоимость в рублях и возрастные границы (например, игрушка может предназначаться для детей от двух до пяти лет). Получить сведения о том, можно ли подобрать игрушки так, чтобы суммарная стоимость игрушек не превосходила 50 тыс. р."
      ],
      "metadata": {
        "id": "6X3HpwXLos5e"
      }
    },
    {
      "cell_type": "code",
      "source": [
        "toys = []\n",
        "\n",
        "with open('Assort.txt', 'r') as file:\n",
        "    for line in file:\n",
        "        name, price, age_from, age_to = line.strip().split(',')\n",
        "        toys.append((name, int(price), int(age_from), int(age_to)))\n",
        "\n",
        "toys.sort(key=lambda x:x[1])\n",
        "\n",
        "total_price = 0\n",
        "selected_toys = []\n",
        "for toy in toys:\n",
        "    if total_price+toy[1] > 50000:\n",
        "        break\n",
        "    selected_toys.append(toy)\n",
        "    total_price += toy[1]\n",
        "\n",
        "print(\"Выбранные игрушки:\")\n",
        "for toy in selected_toys:\n",
        "    print(f\"Название: {toy[0]}, Стоимость: {toy[1]}\")"
      ],
      "metadata": {
        "id": "EXWyWFHij7-1"
      },
      "execution_count": null,
      "outputs": []
    },
    {
      "cell_type": "markdown",
      "source": [
        "3.\tДан файл, содержащий текст, включающий русские и английские слова. Подсчитать, каких букв в тексте больше — русских или латинских."
      ],
      "metadata": {
        "id": "Dv_lQyGVovXl"
      }
    },
    {
      "cell_type": "code",
      "source": [
        "with open(\"text.txt\", 'r') as file:\n",
        "    text = file.read()\n",
        "\n",
        "count_r, count_l = 0, 0\n",
        "\n",
        "for char in text:\n",
        "    if 'а' <= char <= 'я' or 'А' <= char <= 'Я':\n",
        "        count_r += 1\n",
        "    elif 'a' <= char <= 'z' or 'A' <= char <= 'Z':\n",
        "        count_l += 1\n",
        "\n",
        "if count_r > count_l:\n",
        "    print(\"В тексте больше русских букв.\")\n",
        "elif count_l > count_r:\n",
        "    print(\"В тексте больше латинских букв.\")\n",
        "else:\n",
        "    print(\"Количество русских и латинских букв одинаково.\")"
      ],
      "metadata": {
        "id": "LVZMbwiZkqrG"
      },
      "execution_count": null,
      "outputs": []
    }
  ]
}